
df = pd.read_csv("NBA_TEAM_FINAL_DATASET.csv")
features = [
    'W_PCT',
    'MIN',
    'PTS',
    'FGM',
    'FGA',
    'FG_PCT',
    'FG3M',
    'FG3A',
    'FG3_PCT',
    'FTM',
    'FTA',
    'FT_PCT',
    'AST',
    'OREB',
    'DREB',
    'REB',
    'TOV',
    'STL',
    'BLK',
    'BLKA',
    'PF',
    'PFD',
    'PLUS_MINUS',
    'OPP_PTS_OFF_TOV',
    'OPP_PTS_2ND_CHANCE',
    'OPP_PTS_FB',
    'OPP_PTS_PAINT',
    'PTS_OFF_TOV',
    'PTS_2ND_CHANCE',
    'PTS_FB',
    'PTS_PAINT',
    'PCT_FGA_2PT',
    'PCT_FGA_3PT',
    'PCT_PTS_2PT',
    'PCT_PTS_2PT_MR',
    'PCT_PTS_3PT',
    'PCT_PTS_FB',
    'PCT_PTS_FT',
    'PCT_PTS_OFF_TOV',
    'PCT_PTS_PAINT',
    'PCT_AST_2PM',
    'PCT_UAST_2PM',
    'PCT_AST_3PM',
    'PCT_UAST_3PM',
    'PCT_AST_FGM',
    'PCT_UAST_FGM',
    'RESTRICTED_AREA_FGM',
    'RESTRICTED_AREA_FGA',
  	'RESTRICTED_AREA_FG_PCT',
    'IN_THE_PAINT_(NON-RA)_FGM',
    'IN_THE_PAINT_(NON-RA)_FGA',
    'IN_THE_PAINT_(NON-RA)_FG_PCT',
    'MID-RANGE_FGM',
    'MID-RANGE_FGA',
    'MID-RANGE_FG_PCT',
    'CORNER_3_FGM',
    'CORNER_3_FGA',
    'CORNER_3_FG_PCT',
    'ABOVE_THE_BREAK_3_FGM',
    'ABOVE_THE_BREAK_3_FGA',
    'ABOVE_THE_BREAK_3_FG_PCT',
    'PLAYOFF_GP',
    'PLAYOFF_W',
    'PLAYOFF_L',
]
target = 'PLAYOFF_W_PCT'
X = df[features]
y = df[target]

X_train, X_test, y_train, y_test = train_test_split(X, y, test_size=0.2, random_state=42)
model = xgb.XGBRegressor(
    objective='reg:squarederror',  # Regression objective
    n_estimators=100,  # Number of trees
    learning_rate=0.05,
    max_depth=5,
    subsample=0.8,
    colsample_bytree=0.8,
    random_state=42
)

model.fit(X_train, y_train)

# Make predictions
y_pred = model.predict(X_test)

# Evaluate performance
mse = mean_squared_error(y_test, y_pred)
rmse = np.sqrt(mse)

print(f"Mean Squared Error (MSE): {mse:.4f}")
print(f"Root Mean Squared Error (RMSE): {rmse:.4f}")

